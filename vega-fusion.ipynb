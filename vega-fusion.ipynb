{
 "cells": [
  {
   "cell_type": "code",
   "execution_count": null,
   "id": "a0c78d55-c0d2-4192-9c13-1b6ee683ed2f",
   "metadata": {},
   "outputs": [],
   "source": [
    "!pip install altair\n",
    "!pip install polars\n",
    "!pip install pandas\n",
    "!pip install pyarrow\n",
    "!pip install \"vegafusion-jupyter[embed]\"\n",
    "!pip install vega_datasets"
   ]
  },
  {
   "cell_type": "code",
   "execution_count": 1,
   "id": "e9b09f0f-6b0b-426a-8178-5ae94e06e25b",
   "metadata": {},
   "outputs": [],
   "source": [
    "import vegafusion as vf\n",
    "vf.jupyter.enable()"
   ]
  },
  {
   "cell_type": "code",
   "execution_count": 2,
   "id": "51354ed2-eadc-4ad4-874d-47f8046a1a8a",
   "metadata": {},
   "outputs": [
    {
     "data": {
      "application/vnd.jupyter.widget-view+json": {
       "model_id": "989e181062974181a93ab73f30b460dd",
       "version_major": 2,
       "version_minor": 0
      },
      "text/plain": [
       "VegaFusionWidget(spec='{\\n  \"config\": {\\n    \"view\": {\\n      \"continuousWidth\": 400,\\n      \"continuousHeight…"
      ]
     },
     "metadata": {},
     "output_type": "display_data"
    },
    {
     "data": {
      "text/plain": []
     },
     "execution_count": 2,
     "metadata": {},
     "output_type": "execute_result"
    }
   ],
   "source": [
    "import altair as alt\n",
    "from vega_datasets import data\n",
    "\n",
    "source = data.seattle_weather()\n",
    "brush = alt.selection(type='interval', encodings=['x'])\n",
    "\n",
    "bars = alt.Chart().mark_bar().encode(\n",
    "    x='month(date):O',\n",
    "    y='mean(precipitation):Q',\n",
    "    opacity=alt.condition(brush, alt.OpacityValue(1), alt.OpacityValue(0.7)),\n",
    ").add_selection(\n",
    "    brush\n",
    ")\n",
    "\n",
    "line = alt.Chart().mark_rule(color='firebrick').encode(\n",
    "    y='mean(precipitation):Q',\n",
    "    size=alt.SizeValue(3)\n",
    ").transform_filter(\n",
    "    brush\n",
    ")\n",
    "\n",
    "chart = alt.layer(bars, line, data=source)\n",
    "chart"
   ]
  },
  {
   "cell_type": "code",
   "execution_count": 3,
   "id": "3cffda52-f64c-4a54-be84-45521b063128",
   "metadata": {
    "tags": []
   },
   "outputs": [
    {
     "data": {
      "application/vnd.jupyter.widget-view+json": {
       "model_id": "44b2f2416c104b2ab67c6076479485cf",
       "version_major": 2,
       "version_minor": 0
      },
      "text/plain": [
       "VegaFusionWidget(spec='{\\n  \"config\": {\\n    \"view\": {\\n      \"continuousWidth\": 400,\\n      \"continuousHeight…"
      ]
     },
     "metadata": {},
     "output_type": "display_data"
    },
    {
     "data": {
      "text/plain": []
     },
     "execution_count": 3,
     "metadata": {},
     "output_type": "execute_result"
    }
   ],
   "source": [
    "import altair as alt\n",
    "import polars as pl\n",
    "\n",
    "cars = pl.read_json(\"cars.json\").to_pandas()\n",
    "\n",
    "alt.Chart(cars).mark_point().encode(\n",
    "    x='Horsepower',\n",
    "    y='Miles_per_Gallon',\n",
    "    color='Origin',\n",
    "    shape='Origin'\n",
    ")"
   ]
  }
 ],
 "metadata": {
  "kernelspec": {
   "display_name": "Python 3 (ipykernel)",
   "language": "python",
   "name": "python3"
  },
  "language_info": {
   "codemirror_mode": {
    "name": "ipython",
    "version": 3
   },
   "file_extension": ".py",
   "mimetype": "text/x-python",
   "name": "python",
   "nbconvert_exporter": "python",
   "pygments_lexer": "ipython3",
   "version": "3.9.5"
  }
 },
 "nbformat": 4,
 "nbformat_minor": 5
}
